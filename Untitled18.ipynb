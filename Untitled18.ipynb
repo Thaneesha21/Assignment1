{
  "nbformat": 4,
  "nbformat_minor": 0,
  "metadata": {
    "colab": {
      "name": "Untitled18.ipynb",
      "provenance": [],
      "authorship_tag": "ABX9TyN32V2MmWLAUeXRDRqEaKB8",
      "include_colab_link": true
    },
    "kernelspec": {
      "name": "python3",
      "display_name": "Python 3"
    }
  },
  "cells": [
    {
      "cell_type": "markdown",
      "metadata": {
        "id": "view-in-github",
        "colab_type": "text"
      },
      "source": [
        "<a href=\"https://colab.research.google.com/github/Thaneesha21/Assignment1/blob/master/Untitled18.ipynb\" target=\"_parent\"><img src=\"https://colab.research.google.com/assets/colab-badge.svg\" alt=\"Open In Colab\"/></a>"
      ]
    },
    {
      "cell_type": "code",
      "metadata": {
        "id": "8oOfTxj91MQy",
        "colab_type": "code",
        "colab": {}
      },
      "source": [
        "30/06/2020"
      ],
      "execution_count": null,
      "outputs": []
    },
    {
      "cell_type": "code",
      "metadata": {
        "id": "F8LHpnx71QG1",
        "colab_type": "code",
        "colab": {}
      },
      "source": [
        "Question 1"
      ],
      "execution_count": null,
      "outputs": []
    },
    {
      "cell_type": "code",
      "metadata": {
        "id": "MpUL5dFn1SBs",
        "colab_type": "code",
        "colab": {
          "base_uri": "https://localhost:8080/",
          "height": 34
        },
        "outputId": "70844a9f-fd24-4449-ff0f-4c74c9c8c461"
      },
      "source": [
        "%%writefile 10.txt\n",
        "'Hai Everyone have a nice day'"
      ],
      "execution_count": 2,
      "outputs": [
        {
          "output_type": "stream",
          "text": [
            "Writing 10.txt\n"
          ],
          "name": "stdout"
        }
      ]
    },
    {
      "cell_type": "code",
      "metadata": {
        "id": "B_0lemiT15X_",
        "colab_type": "code",
        "colab": {
          "base_uri": "https://localhost:8080/",
          "height": 35
        },
        "outputId": "7ee485e8-f7ab-43f8-a9f6-9a119eb28c57"
      },
      "source": [
        "f1=open('10.txt')\n",
        "f1.read()"
      ],
      "execution_count": 5,
      "outputs": [
        {
          "output_type": "execute_result",
          "data": {
            "application/vnd.google.colaboratory.intrinsic": {
              "type": "string"
            },
            "text/plain": [
              "\"'Hai Everyone have a nice day'\""
            ]
          },
          "metadata": {
            "tags": []
          },
          "execution_count": 4
        },
        {
          "output_type": "execute_result",
          "data": {
            "application/vnd.google.colaboratory.intrinsic": {
              "type": "string"
            },
            "text/plain": [
              "\"'Hai Everyone have a nice day'\""
            ]
          },
          "metadata": {
            "tags": []
          },
          "execution_count": 5
        }
      ]
    },
    {
      "cell_type": "code",
      "metadata": {
        "id": "OiSpw_1X2nZd",
        "colab_type": "code",
        "colab": {}
      },
      "source": [
        "Question 2"
      ],
      "execution_count": null,
      "outputs": []
    },
    {
      "cell_type": "code",
      "metadata": {
        "id": "5IIgXmWc2-cH",
        "colab_type": "code",
        "colab": {
          "base_uri": "https://localhost:8080/",
          "height": 67
        },
        "outputId": "dca65da4-d286-4083-ad70-d265ad11c8b5"
      },
      "source": [
        "def file_read(fname):\n",
        "  from itertools import islice\n",
        "  with open(fname, \"w\")as myfile:\n",
        "    myfile.write(\"Python Exercises\\n\")\n",
        "    myfile.write(\"Java Exercises\\n\")\n",
        "  txt = open(fname)\n",
        "  print(txt.read())\n",
        "file_read('abc.txt')    "
      ],
      "execution_count": 6,
      "outputs": [
        {
          "output_type": "stream",
          "text": [
            "Python Exercises\n",
            "Java Exercises\n",
            "\n"
          ],
          "name": "stdout"
        }
      ]
    },
    {
      "cell_type": "code",
      "metadata": {
        "id": "RRg7JeJz3-p-",
        "colab_type": "code",
        "colab": {}
      },
      "source": [
        "Question 3"
      ],
      "execution_count": null,
      "outputs": []
    },
    {
      "cell_type": "code",
      "metadata": {
        "id": "xn8WZkqY6JAW",
        "colab_type": "code",
        "colab": {
          "base_uri": "https://localhost:8080/",
          "height": 67
        },
        "outputId": "b966c12f-cc1e-4541-ab4e-2ff63019310a"
      },
      "source": [
        "L = [\"Geeks\\n\", \"for\\n\", \"Geeks\\n\"]\n",
        "file1 = open('myfile.txt', 'w')\n",
        "file1.writelines(L)\n",
        "file1.close()\n",
        "file1 = open('myfile.txt', 'r')\n",
        "Lines = file1.readlines()\n",
        "count = 0\n",
        "for line in Lines:\n",
        "  print(\"Line{}: {}\".format(count, line.strip()))\n"
      ],
      "execution_count": 14,
      "outputs": [
        {
          "output_type": "stream",
          "text": [
            "Line0: Geeks\n",
            "Line0: for\n",
            "Line0: Geeks\n"
          ],
          "name": "stdout"
        }
      ]
    },
    {
      "cell_type": "code",
      "metadata": {
        "id": "8t1Vvm-Y7h-o",
        "colab_type": "code",
        "colab": {}
      },
      "source": [
        "Question 4"
      ],
      "execution_count": null,
      "outputs": []
    },
    {
      "cell_type": "code",
      "metadata": {
        "id": "faxOdn5L9Lsv",
        "colab_type": "code",
        "colab": {
          "base_uri": "https://localhost:8080/",
          "height": 34
        },
        "outputId": "06acf0e2-ebbd-4fca-c99d-bdc2d7ca2a0a"
      },
      "source": [
        "from itertools import count\n",
        "def longest_word(lst, K):\n",
        "  cnt = count()\n",
        "  return sorted(lst, key = lambda w : (len(w), next(cnt)),reverse = True)[:K]\n",
        "lst = ['am', 'watermelon', 'girl', 'boy', 'colour']\n",
        "K = 3\n",
        "print(longest_word(lst, K))  "
      ],
      "execution_count": 18,
      "outputs": [
        {
          "output_type": "stream",
          "text": [
            "['watermelon', 'colour', 'girl']\n"
          ],
          "name": "stdout"
        }
      ]
    },
    {
      "cell_type": "code",
      "metadata": {
        "id": "Js3V4Fc8-PVe",
        "colab_type": "code",
        "colab": {}
      },
      "source": [
        "Question 5"
      ],
      "execution_count": null,
      "outputs": []
    },
    {
      "cell_type": "code",
      "metadata": {
        "id": "FIrsey84_QnX",
        "colab_type": "code",
        "colab": {
          "base_uri": "https://localhost:8080/",
          "height": 50
        },
        "outputId": "49dda6f1-d8bf-4130-beb0-4f2664f9ed63"
      },
      "source": [
        "file = open(\"10.txt\",\"r\")\n",
        "Counter = 0\n",
        "Content = file.read()\n",
        "CoList = Content.split(\"\\n\")\n",
        "for i in CoList:\n",
        "  if i:\n",
        "    Counter +=1\n",
        "print(\"This is the number of lines in the file\")\n",
        "print(Counter)    "
      ],
      "execution_count": 21,
      "outputs": [
        {
          "output_type": "stream",
          "text": [
            "This is the number of lines in the file\n",
            "1\n"
          ],
          "name": "stdout"
        }
      ]
    }
  ]
}