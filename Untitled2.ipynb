{
  "nbformat": 4,
  "nbformat_minor": 0,
  "metadata": {
    "colab": {
      "name": "Untitled2.ipynb",
      "provenance": [],
      "authorship_tag": "ABX9TyNo9OOu24bLcWwU/TtNT6+F",
      "include_colab_link": true
    },
    "kernelspec": {
      "name": "python3",
      "display_name": "Python 3"
    }
  },
  "cells": [
    {
      "cell_type": "markdown",
      "metadata": {
        "id": "view-in-github",
        "colab_type": "text"
      },
      "source": [
        "<a href=\"https://colab.research.google.com/github/Thaneesha21/Assignment1/blob/master/Untitled2.ipynb\" target=\"_parent\"><img src=\"https://colab.research.google.com/assets/colab-badge.svg\" alt=\"Open In Colab\"/></a>"
      ]
    },
    {
      "cell_type": "code",
      "metadata": {
        "id": "XB0JydYxI_4m",
        "colab_type": "code",
        "colab": {
          "base_uri": "https://localhost:8080/",
          "height": 67
        },
        "outputId": "747d3237-3f14-43ec-c43c-9b99a1d7a934"
      },
      "source": [
        "a=int(input('enter value of a:'))\n",
        "b=int(input('enter value of b:'))\n",
        "print('sum of a and b is:',a+b)"
      ],
      "execution_count": 1,
      "outputs": [
        {
          "output_type": "stream",
          "text": [
            "enter value of a:20\n",
            "enter value of b:10\n",
            "sum of a and b is: 30\n"
          ],
          "name": "stdout"
        }
      ]
    },
    {
      "cell_type": "code",
      "metadata": {
        "id": "LiWfk1MIJkaC",
        "colab_type": "code",
        "colab": {
          "base_uri": "https://localhost:8080/",
          "height": 67
        },
        "outputId": "1bbc11b1-9111-4ef5-bafa-61659a6a6091"
      },
      "source": [
        "a=int(input('enter value of a:'))\n",
        "b=int(input('enter value of b:'))\n",
        "print('difference of a and b:',a-b)"
      ],
      "execution_count": 2,
      "outputs": [
        {
          "output_type": "stream",
          "text": [
            "enter value of a:20\n",
            "enter value of b:10\n",
            "difference of a and b: 10\n"
          ],
          "name": "stdout"
        }
      ]
    },
    {
      "cell_type": "code",
      "metadata": {
        "id": "qOA4z6iiKCJc",
        "colab_type": "code",
        "colab": {
          "base_uri": "https://localhost:8080/",
          "height": 67
        },
        "outputId": "64549f0b-6cc0-49df-a903-723f9a607d2b"
      },
      "source": [
        "a=int(input('enter value of a:'))\n",
        "b=int(input('enter value of b:'))\n",
        "print('product of a and b:',a*b)"
      ],
      "execution_count": 3,
      "outputs": [
        {
          "output_type": "stream",
          "text": [
            "enter value of a:20\n",
            "enter value of b:10\n",
            "product of a and b: 200\n"
          ],
          "name": "stdout"
        }
      ]
    },
    {
      "cell_type": "code",
      "metadata": {
        "id": "UmYJ7yeXK-na",
        "colab_type": "code",
        "colab": {
          "base_uri": "https://localhost:8080/",
          "height": 67
        },
        "outputId": "d0b47155-eccc-4561-d53e-6da3faace406"
      },
      "source": [
        "a=int(input('enter value of a:'))\n",
        "b=int(input('enter value of b'))\n",
        "print('coeficient of a and b:',a/b)"
      ],
      "execution_count": 5,
      "outputs": [
        {
          "output_type": "stream",
          "text": [
            "enter value of a:20\n",
            "enter value of b10\n",
            "coeficient of a and b: 2.0\n"
          ],
          "name": "stdout"
        }
      ]
    },
    {
      "cell_type": "code",
      "metadata": {
        "id": "nKxdav4dLbUw",
        "colab_type": "code",
        "colab": {
          "base_uri": "https://localhost:8080/",
          "height": 67
        },
        "outputId": "83b7f89b-3bfa-42f6-f510-8b4eca9ae45c"
      },
      "source": [
        "a=int(input('enter value of a:'))\n",
        "b=int(input('enter value of b:'))\n",
        "print('remainder of a and b is:',a%b)"
      ],
      "execution_count": 6,
      "outputs": [
        {
          "output_type": "stream",
          "text": [
            "enter value of a:7\n",
            "enter value of b:2\n",
            "remainder of a and b is: 1\n"
          ],
          "name": "stdout"
        }
      ]
    },
    {
      "cell_type": "code",
      "metadata": {
        "id": "gI0SWzRRNS59",
        "colab_type": "code",
        "colab": {
          "base_uri": "https://localhost:8080/",
          "height": 67
        },
        "outputId": "74f53649-ed4c-4225-cf37-6c71f819ed2f"
      },
      "source": [
        "a=int(input('enter value of a:'))\n",
        "b=int(input('enter value of b:'))\n",
        "print('a power of b:',a**b)"
      ],
      "execution_count": 10,
      "outputs": [
        {
          "output_type": "stream",
          "text": [
            "enter value of a:4\n",
            "enter value of b:2\n",
            "a power of b: 16\n"
          ],
          "name": "stdout"
        }
      ]
    },
    {
      "cell_type": "code",
      "metadata": {
        "id": "7URXtwQSN3g0",
        "colab_type": "code",
        "colab": {
          "base_uri": "https://localhost:8080/",
          "height": 67
        },
        "outputId": "33d92f85-206e-402e-ec26-b44b23ed202b"
      },
      "source": [
        "a=int(input('enter value of a:'))\n",
        "b=int(input('enter value of b:'))\n",
        "print('floor division is:',a//b)"
      ],
      "execution_count": 11,
      "outputs": [
        {
          "output_type": "stream",
          "text": [
            "enter value of a:10\n",
            "enter value of b:3\n",
            "floor division is: 3\n"
          ],
          "name": "stdout"
        }
      ]
    },
    {
      "cell_type": "code",
      "metadata": {
        "id": "SE376k7xOXa4",
        "colab_type": "code",
        "colab": {}
      },
      "source": [
        "Question 2"
      ],
      "execution_count": null,
      "outputs": []
    },
    {
      "cell_type": "code",
      "metadata": {
        "id": "7tfd3MOaOcMA",
        "colab_type": "code",
        "colab": {
          "base_uri": "https://localhost:8080/",
          "height": 84
        },
        "outputId": "285cd765-d4f0-4779-bb7a-d9508553b220"
      },
      "source": [
        "P=int(input('enter value of P:'))\n",
        "T=int(input('enter value of T:'))\n",
        "R=int(input('enter value of R:'))\n",
        "print('simple interest is:',((P*T*R)/100))"
      ],
      "execution_count": 12,
      "outputs": [
        {
          "output_type": "stream",
          "text": [
            "enter value of P:10\n",
            "enter value of T:20\n",
            "enter value of R:30\n",
            "simple interest is: 60.0\n"
          ],
          "name": "stdout"
        }
      ]
    },
    {
      "cell_type": "code",
      "metadata": {
        "id": "339LX4goPfRR",
        "colab_type": "code",
        "colab": {}
      },
      "source": [
        "Question 3"
      ],
      "execution_count": null,
      "outputs": []
    },
    {
      "cell_type": "code",
      "metadata": {
        "id": "l6_PJmsQPiU4",
        "colab_type": "code",
        "colab": {
          "base_uri": "https://localhost:8080/",
          "height": 50
        },
        "outputId": "a079589a-350e-4e63-d887-bcb2c1ba037d"
      },
      "source": [
        "r=int(input('enter value of radius:'))\n",
        "print('Area of circle is:',(3.14*r*r))"
      ],
      "execution_count": 13,
      "outputs": [
        {
          "output_type": "stream",
          "text": [
            "enter value of radius:10\n",
            "Area of circle is: 314.0\n"
          ],
          "name": "stdout"
        }
      ]
    },
    {
      "cell_type": "code",
      "metadata": {
        "id": "zxmFfuDFP8ie",
        "colab_type": "code",
        "colab": {}
      },
      "source": [
        "Question 4"
      ],
      "execution_count": null,
      "outputs": []
    },
    {
      "cell_type": "code",
      "metadata": {
        "id": "2IGUhPdjP7Ie",
        "colab_type": "code",
        "colab": {
          "base_uri": "https://localhost:8080/",
          "height": 34
        },
        "outputId": "962a2888-4a1d-4315-ca46-c962a5b0437f"
      },
      "source": [
        "S1=2\n",
        "S2=3\n",
        "S3=2\n",
        "print('area of triangle:',(S1*S2*S3))"
      ],
      "execution_count": 14,
      "outputs": [
        {
          "output_type": "stream",
          "text": [
            "area of triangle: 12\n"
          ],
          "name": "stdout"
        }
      ]
    },
    {
      "cell_type": "code",
      "metadata": {
        "id": "XpOnatA0RYHs",
        "colab_type": "code",
        "colab": {}
      },
      "source": [
        "Question 5"
      ],
      "execution_count": null,
      "outputs": []
    },
    {
      "cell_type": "code",
      "metadata": {
        "id": "s_-6KUmiQ-GV",
        "colab_type": "code",
        "colab": {
          "base_uri": "https://localhost:8080/",
          "height": 34
        },
        "outputId": "e4bb267d-20be-416f-bf49-45fac6e0c63c"
      },
      "source": [
        "c=37\n",
        "print('temperature in fahrenheit:',(1.2))"
      ],
      "execution_count": 16,
      "outputs": [
        {
          "output_type": "stream",
          "text": [
            "temperature in fahrenheit: 1.2\n"
          ],
          "name": "stdout"
        }
      ]
    },
    {
      "cell_type": "code",
      "metadata": {
        "id": "9CGAi_P4RQMC",
        "colab_type": "code",
        "colab": {}
      },
      "source": [
        "Question 6"
      ],
      "execution_count": null,
      "outputs": []
    },
    {
      "cell_type": "code",
      "metadata": {
        "id": "6UO9xHwwRWDo",
        "colab_type": "code",
        "colab": {
          "base_uri": "https://localhost:8080/",
          "height": 34
        },
        "outputId": "43f64013-23bd-420d-cc59-2bdd55e2eae1"
      },
      "source": [
        "l=5\n",
        "b=5\n",
        "print('area of triangle:',(l*b))"
      ],
      "execution_count": 17,
      "outputs": [
        {
          "output_type": "stream",
          "text": [
            "area of triangle: 25\n"
          ],
          "name": "stdout"
        }
      ]
    },
    {
      "cell_type": "code",
      "metadata": {
        "id": "8aBbNu4yRpwJ",
        "colab_type": "code",
        "colab": {}
      },
      "source": [
        "Question 7"
      ],
      "execution_count": null,
      "outputs": []
    },
    {
      "cell_type": "code",
      "metadata": {
        "id": "kfq7uOOURsFd",
        "colab_type": "code",
        "colab": {
          "base_uri": "https://localhost:8080/",
          "height": 34
        },
        "outputId": "a1fd4f64-b1e8-48fc-df84-f8fac0591ca2"
      },
      "source": [
        "Side=2\n",
        "print('perimeter of square:',(4*Side))"
      ],
      "execution_count": 18,
      "outputs": [
        {
          "output_type": "stream",
          "text": [
            "perimeter of square: 8\n"
          ],
          "name": "stdout"
        }
      ]
    },
    {
      "cell_type": "code",
      "metadata": {
        "id": "7OUlJCeOSCBa",
        "colab_type": "code",
        "colab": {}
      },
      "source": [
        "Question 8"
      ],
      "execution_count": null,
      "outputs": []
    },
    {
      "cell_type": "code",
      "metadata": {
        "id": "AKmrLbrYSHde",
        "colab_type": "code",
        "colab": {
          "base_uri": "https://localhost:8080/",
          "height": 50
        },
        "outputId": "f3f169c5-3d6b-4612-fe2c-0c1a00367852"
      },
      "source": [
        "r=int(input('value of radius:'))\n",
        "print('circumference of circle:',(2*3.14*r))"
      ],
      "execution_count": 19,
      "outputs": [
        {
          "output_type": "stream",
          "text": [
            "value of radius:2\n",
            "circumference of circle: 12.56\n"
          ],
          "name": "stdout"
        }
      ]
    },
    {
      "cell_type": "code",
      "metadata": {
        "id": "9qT_zTVCS3Di",
        "colab_type": "code",
        "colab": {}
      },
      "source": [
        "Question 9"
      ],
      "execution_count": null,
      "outputs": []
    },
    {
      "cell_type": "code",
      "metadata": {
        "id": "SglsrW6MS6CS",
        "colab_type": "code",
        "colab": {
          "base_uri": "https://localhost:8080/",
          "height": 50
        },
        "outputId": "ee234f55-3487-4cf7-a800-fb47d5da6fab"
      },
      "source": [
        "a=5\n",
        "b=10\n",
        "a=a+b\n",
        "b=a-b\n",
        "a=a-b\n",
        "print('value of a after swapping:',a)\n",
        "print('value of b after swapping:',b)"
      ],
      "execution_count": 20,
      "outputs": [
        {
          "output_type": "stream",
          "text": [
            "value of a after swapping: 10\n",
            "value of b after swapping: 5\n"
          ],
          "name": "stdout"
        }
      ]
    }
  ]
}