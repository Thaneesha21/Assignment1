{
  "nbformat": 4,
  "nbformat_minor": 0,
  "metadata": {
    "colab": {
      "name": "Untitled20.ipynb",
      "provenance": [],
      "authorship_tag": "ABX9TyMLzXJbGpn1ARvJIA/Lk4oP",
      "include_colab_link": true
    },
    "kernelspec": {
      "name": "python3",
      "display_name": "Python 3"
    }
  },
  "cells": [
    {
      "cell_type": "markdown",
      "metadata": {
        "id": "view-in-github",
        "colab_type": "text"
      },
      "source": [
        "<a href=\"https://colab.research.google.com/github/Thaneesha21/Assignment1/blob/master/Untitled20.ipynb\" target=\"_parent\"><img src=\"https://colab.research.google.com/assets/colab-badge.svg\" alt=\"Open In Colab\"/></a>"
      ]
    },
    {
      "cell_type": "code",
      "metadata": {
        "id": "Cke_ORtyd-q9",
        "colab_type": "code",
        "colab": {}
      },
      "source": [
        "2/07/2020"
      ],
      "execution_count": null,
      "outputs": []
    },
    {
      "cell_type": "code",
      "metadata": {
        "id": "Arz_cBzAeKRw",
        "colab_type": "code",
        "colab": {}
      },
      "source": [
        "Question 1"
      ],
      "execution_count": null,
      "outputs": []
    },
    {
      "cell_type": "code",
      "metadata": {
        "id": "AelQVF8peL_J",
        "colab_type": "code",
        "colab": {
          "base_uri": "https://localhost:8080/",
          "height": 50
        },
        "outputId": "f6d82dde-86f3-4e34-be55-d505fb6408e9"
      },
      "source": [
        "tuplex = 5, 10, 15, 20, 25\n",
        "print(tuplex)\n",
        "tuplex = 5,\n",
        "print(tuplex)"
      ],
      "execution_count": 1,
      "outputs": [
        {
          "output_type": "stream",
          "text": [
            "(5, 10, 15, 20, 25)\n",
            "(5,)\n"
          ],
          "name": "stdout"
        }
      ]
    },
    {
      "cell_type": "code",
      "metadata": {
        "id": "25CXquE4emZb",
        "colab_type": "code",
        "colab": {}
      },
      "source": [
        "Question 2"
      ],
      "execution_count": null,
      "outputs": []
    },
    {
      "cell_type": "code",
      "metadata": {
        "id": "lZGOK44neoHI",
        "colab_type": "code",
        "colab": {
          "base_uri": "https://localhost:8080/",
          "height": 34
        },
        "outputId": "2ca39f8c-786d-4780-fd5c-32e05349185c"
      },
      "source": [
        "tuplex = (\"tuple\", False, 3.2, 1)\n",
        "print(tuplex)"
      ],
      "execution_count": 2,
      "outputs": [
        {
          "output_type": "stream",
          "text": [
            "('tuple', False, 3.2, 1)\n"
          ],
          "name": "stdout"
        }
      ]
    },
    {
      "cell_type": "code",
      "metadata": {
        "id": "WTSHsRgOfIFw",
        "colab_type": "code",
        "colab": {}
      },
      "source": [
        "Question 3"
      ],
      "execution_count": null,
      "outputs": []
    },
    {
      "cell_type": "code",
      "metadata": {
        "id": "GX1R85bgfKa2",
        "colab_type": "code",
        "colab": {
          "base_uri": "https://localhost:8080/",
          "height": 34
        },
        "outputId": "69b2ae83-4b88-44f0-e4b7-b5e6e96dfef6"
      },
      "source": [
        "def convertTuple(tup):\n",
        "  str = ''.join(tup)\n",
        "  return str\n",
        "tuple = ('g', 'e', 'e', 'k', 's')\n",
        "str = convertTuple(tuple)\n",
        "print(str)  "
      ],
      "execution_count": 3,
      "outputs": [
        {
          "output_type": "stream",
          "text": [
            "geeks\n"
          ],
          "name": "stdout"
        }
      ]
    },
    {
      "cell_type": "code",
      "metadata": {
        "id": "jUY_HPqwf6zr",
        "colab_type": "code",
        "colab": {}
      },
      "source": [
        "Question 4"
      ],
      "execution_count": null,
      "outputs": []
    },
    {
      "cell_type": "code",
      "metadata": {
        "id": "z1RPwtJ1f-Km",
        "colab_type": "code",
        "colab": {
          "base_uri": "https://localhost:8080/",
          "height": 101
        },
        "outputId": "34595d5e-1492-4830-a779-9ad3c7d6ee8b"
      },
      "source": [
        "tuplex = (2, 4, 3, 5, 4, 6, 7, 8, 6, 1)\n",
        "_slice = tuplex[3:5]\n",
        "print(_slice)\n",
        "_slice = tuplex[:6]\n",
        "print(_slice)\n",
        "_slice = tuplex[5:]\n",
        "print(_slice)\n",
        "_slice = tuplex[:]\n",
        "print(_slice)\n",
        "_slice = tuplex[-8:-4]\n",
        "print(_slice)"
      ],
      "execution_count": 6,
      "outputs": [
        {
          "output_type": "stream",
          "text": [
            "(5, 4)\n",
            "(2, 4, 3, 5, 4, 6)\n",
            "(6, 7, 8, 6, 1)\n",
            "(2, 4, 3, 5, 4, 6, 7, 8, 6, 1)\n",
            "(3, 5, 4, 6)\n"
          ],
          "name": "stdout"
        }
      ]
    },
    {
      "cell_type": "code",
      "metadata": {
        "id": "NoACIgcJhrC-",
        "colab_type": "code",
        "colab": {}
      },
      "source": [
        "Question 5"
      ],
      "execution_count": null,
      "outputs": []
    },
    {
      "cell_type": "code",
      "metadata": {
        "id": "Ba2yxUL-huK5",
        "colab_type": "code",
        "colab": {
          "base_uri": "https://localhost:8080/",
          "height": 50
        },
        "outputId": "d4bc09bc-a483-4e93-f006-3aee1cf8b724"
      },
      "source": [
        "tuplex = (\"w3resource\")\n",
        "print(tuplex)\n",
        "print(len(tuplex))"
      ],
      "execution_count": 12,
      "outputs": [
        {
          "output_type": "stream",
          "text": [
            "w3resource\n",
            "10\n"
          ],
          "name": "stdout"
        }
      ]
    },
    {
      "cell_type": "code",
      "metadata": {
        "id": "jviEsuZ0jbAc",
        "colab_type": "code",
        "colab": {}
      },
      "source": [
        "Question 6"
      ],
      "execution_count": null,
      "outputs": []
    },
    {
      "cell_type": "code",
      "metadata": {
        "id": "ga1QDNfxjdrL",
        "colab_type": "code",
        "colab": {
          "base_uri": "https://localhost:8080/",
          "height": 34
        },
        "outputId": "eb8a1904-c83f-4028-a85b-b9c5bd62c1e2"
      },
      "source": [
        "tuplex = ((2, \"w\"),(3, \"r\"))\n",
        "print(dict((y, x) for x, y in tuplex))"
      ],
      "execution_count": 13,
      "outputs": [
        {
          "output_type": "stream",
          "text": [
            "{'w': 2, 'r': 3}\n"
          ],
          "name": "stdout"
        }
      ]
    },
    {
      "cell_type": "code",
      "metadata": {
        "id": "B9D5vdi3kB6n",
        "colab_type": "code",
        "colab": {}
      },
      "source": [
        "Question 7"
      ],
      "execution_count": null,
      "outputs": []
    },
    {
      "cell_type": "code",
      "metadata": {
        "id": "q4ICoNyQlNgs",
        "colab_type": "code",
        "colab": {
          "base_uri": "https://localhost:8080/",
          "height": 34
        },
        "outputId": "25479df6-8985-46a1-9bb2-1264ff673de3"
      },
      "source": [
        "def Reverse(tuples):\n",
        "  new_tup = tuples[::-1]\n",
        "  return new_tup\n",
        "tuples = ('z','a','d','f','g','e','e','k')\n",
        "print(Reverse(tuples))  \n"
      ],
      "execution_count": 18,
      "outputs": [
        {
          "output_type": "stream",
          "text": [
            "('k', 'e', 'e', 'g', 'f', 'd', 'a', 'z')\n"
          ],
          "name": "stdout"
        }
      ]
    },
    {
      "cell_type": "code",
      "metadata": {
        "id": "76c4F3vyl1mo",
        "colab_type": "code",
        "colab": {}
      },
      "source": [
        "Question 8"
      ],
      "execution_count": null,
      "outputs": []
    },
    {
      "cell_type": "code",
      "metadata": {
        "id": "R34-mkBel4Wr",
        "colab_type": "code",
        "colab": {
          "base_uri": "https://localhost:8080/",
          "height": 34
        },
        "outputId": "b6ab2c46-6c03-4c7f-9d1a-60a5802d5db4"
      },
      "source": [
        "l = [(\"x\", 1), (\"x\", 2), (\"x\", 3), (\"y\", 1), (\"y\", 2), (\"z\", 1)]\n",
        "d = {}\n",
        "for a, b in l:\n",
        "  d.setdefault(a, []).append(b)\n",
        "print (d)"
      ],
      "execution_count": 19,
      "outputs": [
        {
          "output_type": "stream",
          "text": [
            "{'x': [1, 2, 3], 'y': [1, 2], 'z': [1]}\n"
          ],
          "name": "stdout"
        }
      ]
    },
    {
      "cell_type": "code",
      "metadata": {
        "id": "I0rvnRxXm-xx",
        "colab_type": "code",
        "colab": {}
      },
      "source": [
        "Question 9"
      ],
      "execution_count": null,
      "outputs": []
    },
    {
      "cell_type": "code",
      "metadata": {
        "id": "7ALh-u9pnBkq",
        "colab_type": "code",
        "colab": {
          "base_uri": "https://localhost:8080/",
          "height": 50
        },
        "outputId": "43764da5-0544-44ef-eae3-2519b02f425f"
      },
      "source": [
        "listx = [5, 10, 7, 4, 15, 3]\n",
        "print(listx)\n",
        "tuplex =(listx)\n",
        "print(tuplex)"
      ],
      "execution_count": 22,
      "outputs": [
        {
          "output_type": "stream",
          "text": [
            "[5, 10, 7, 4, 15, 3]\n",
            "[5, 10, 7, 4, 15, 3]\n"
          ],
          "name": "stdout"
        }
      ]
    }
  ]
}