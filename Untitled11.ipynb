{
  "nbformat": 4,
  "nbformat_minor": 0,
  "metadata": {
    "colab": {
      "name": "Untitled11.ipynb",
      "provenance": [],
      "authorship_tag": "ABX9TyPf7Biau8aeyBCqkCfLpUak",
      "include_colab_link": true
    },
    "kernelspec": {
      "name": "python3",
      "display_name": "Python 3"
    }
  },
  "cells": [
    {
      "cell_type": "markdown",
      "metadata": {
        "id": "view-in-github",
        "colab_type": "text"
      },
      "source": [
        "<a href=\"https://colab.research.google.com/github/Thaneesha21/Assignment1/blob/master/Untitled11.ipynb\" target=\"_parent\"><img src=\"https://colab.research.google.com/assets/colab-badge.svg\" alt=\"Open In Colab\"/></a>"
      ]
    },
    {
      "cell_type": "code",
      "metadata": {
        "id": "1_UN5ISzF7AP",
        "colab_type": "code",
        "colab": {}
      },
      "source": [
        "Assignment 7"
      ],
      "execution_count": null,
      "outputs": []
    },
    {
      "cell_type": "code",
      "metadata": {
        "id": "FiHaInDSF-3H",
        "colab_type": "code",
        "colab": {}
      },
      "source": [
        "Question 1"
      ],
      "execution_count": null,
      "outputs": []
    },
    {
      "cell_type": "code",
      "metadata": {
        "id": "i-pHFPhZGA6C",
        "colab_type": "code",
        "colab": {
          "base_uri": "https://localhost:8080/",
          "height": 67
        },
        "outputId": "ed99b7c3-4da5-485a-8c49-0d69dc477e5f"
      },
      "source": [
        "str=input(\"Enter a string:\")\n",
        "char=input(\"Enter a char:\")\n",
        "count=0\n",
        "for i in range(len(str)):\n",
        "  if(str[i]==char):\n",
        "    count+=1\n",
        "print(\"The total number of times \",char,\"has occured=\",count)"
      ],
      "execution_count": 2,
      "outputs": [
        {
          "output_type": "stream",
          "text": [
            "Enter a string:Hello world\n",
            "Enter a char:l\n",
            "The total number of times  l has occured= 3\n"
          ],
          "name": "stdout"
        }
      ]
    },
    {
      "cell_type": "code",
      "metadata": {
        "id": "aYZXNQD-HRdw",
        "colab_type": "code",
        "colab": {}
      },
      "source": [
        "Question 2"
      ],
      "execution_count": null,
      "outputs": []
    },
    {
      "cell_type": "code",
      "metadata": {
        "id": "47-bWU1JHiXF",
        "colab_type": "code",
        "colab": {
          "base_uri": "https://localhost:8080/",
          "height": 50
        },
        "outputId": "f7d7ffaf-dc12-4fc5-90e0-b116639def0f"
      },
      "source": [
        "def findSum(str1):\n",
        "  temp=\"\"\n",
        "  sum=0\n",
        "  for ch in str1:\n",
        "    if(ch.isdigit()):\n",
        "      temp += char\n",
        "    else:\n",
        "      Sum += int(temp)\n",
        "      temp=\"0\"\n",
        "      return Sum + int(temp)\n",
        "str1=input(\"Enter a string:\")\n",
        "print(findSum(str1))        "
      ],
      "execution_count": 9,
      "outputs": [
        {
          "output_type": "stream",
          "text": [
            "Enter a string:3\n",
            "None\n"
          ],
          "name": "stdout"
        }
      ]
    },
    {
      "cell_type": "code",
      "metadata": {
        "id": "HDUqvDtPJdOq",
        "colab_type": "code",
        "colab": {}
      },
      "source": [
        "Question 3"
      ],
      "execution_count": null,
      "outputs": []
    },
    {
      "cell_type": "code",
      "metadata": {
        "id": "F-TETnfKJhgR",
        "colab_type": "code",
        "colab": {
          "base_uri": "https://localhost:8080/",
          "height": 168
        },
        "outputId": "c5d3f312-ab31-4d09-c853-3c9f15ee37e6"
      },
      "source": [
        "def count(s):\n",
        "  upper,lower,digits,special=0,0,0,0\n",
        "  for i in range(len(s)):\n",
        "    if s[i].isupper():\n",
        "      upper+=1\n",
        "    elif s[i].islower():\n",
        "      lower+=1\n",
        "    else:\n",
        "      special+=1\n",
        "    print(\"Uppercase letter:\",upper)\n",
        "    print(\"Lowercase letter:\",lower) \n",
        "    print(\"Digits:\",digits)\n",
        "    print(\"Special characters:\",special)\n",
        "s=input(\"Enter a string:\")\n",
        "count(s)         "
      ],
      "execution_count": 12,
      "outputs": [
        {
          "output_type": "stream",
          "text": [
            "Enter a string:Hi\n",
            "Uppercase letter: 1\n",
            "Lowercase letter: 0\n",
            "Digits: 0\n",
            "Special characters: 0\n",
            "Uppercase letter: 1\n",
            "Lowercase letter: 1\n",
            "Digits: 0\n",
            "Special characters: 0\n"
          ],
          "name": "stdout"
        }
      ]
    },
    {
      "cell_type": "code",
      "metadata": {
        "id": "P_WoQ9nWLXia",
        "colab_type": "code",
        "colab": {}
      },
      "source": [
        "Question 4"
      ],
      "execution_count": null,
      "outputs": []
    },
    {
      "cell_type": "code",
      "metadata": {
        "id": "DjZJoSweLZkw",
        "colab_type": "code",
        "colab": {
          "base_uri": "https://localhost:8080/",
          "height": 67
        },
        "outputId": "bb68c920-cb13-4214-99d9-21c7ac86258d"
      },
      "source": [
        "m=input(\"Enter a string:\")\n",
        "print(\"Original String:\")\n",
        "words=m.split()\n",
        "lower=[]\n",
        "upper=[]\n",
        "for char in m:\n",
        "  if char.islower():\n",
        "    lower.append(char)\n",
        "  else:\n",
        "    upper.append(char)\n",
        "sortedStr=\".join(lower+upper)\"\n",
        "print(\"After arranging:\",sortedStr)      \n"
      ],
      "execution_count": 17,
      "outputs": [
        {
          "output_type": "stream",
          "text": [
            "Enter a string:upper\n",
            "Original String:\n",
            "After arranging: .join(lower+upper)\n"
          ],
          "name": "stdout"
        }
      ]
    },
    {
      "cell_type": "code",
      "metadata": {
        "id": "zFOUFmHtNaHi",
        "colab_type": "code",
        "colab": {}
      },
      "source": [
        "Question 5"
      ],
      "execution_count": null,
      "outputs": []
    },
    {
      "cell_type": "code",
      "metadata": {
        "id": "nerIwJkTNedD",
        "colab_type": "code",
        "colab": {}
      },
      "source": [
        "def appendMiddle(s1,s2):\n",
        "  middleIndex=int(len(s1)/2)\n",
        "  print(\"Original String are:\",s1,s2)\n",
        "  middleThree=s1[:middleindex-1]+s2+s1[middleindex-1:]\n",
        "  print(\"After appending:\",middleThree)\n",
        "  s1=input(\">\")\n",
        "  s2=input(\">\")\n",
        "  appendMiddle(s1,s2) "
      ],
      "execution_count": 23,
      "outputs": []
    }
  ]
}