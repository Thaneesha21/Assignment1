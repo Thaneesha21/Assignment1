{
  "nbformat": 4,
  "nbformat_minor": 0,
  "metadata": {
    "colab": {
      "name": "Untitled10.ipynb",
      "provenance": [],
      "authorship_tag": "ABX9TyNC4Wr7VIQgSq7TwGlSkc30",
      "include_colab_link": true
    },
    "kernelspec": {
      "name": "python3",
      "display_name": "Python 3"
    }
  },
  "cells": [
    {
      "cell_type": "markdown",
      "metadata": {
        "id": "view-in-github",
        "colab_type": "text"
      },
      "source": [
        "<a href=\"https://colab.research.google.com/github/Thaneesha21/Assignment1/blob/master/Untitled10.ipynb\" target=\"_parent\"><img src=\"https://colab.research.google.com/assets/colab-badge.svg\" alt=\"Open In Colab\"/></a>"
      ]
    },
    {
      "cell_type": "code",
      "metadata": {
        "id": "AT3nOR-4vDDF",
        "colab_type": "code",
        "colab": {}
      },
      "source": [
        "Assignment 6"
      ],
      "execution_count": null,
      "outputs": []
    },
    {
      "cell_type": "code",
      "metadata": {
        "id": "inTX1b5JvcrM",
        "colab_type": "code",
        "colab": {}
      },
      "source": [
        "Question 1"
      ],
      "execution_count": null,
      "outputs": []
    },
    {
      "cell_type": "code",
      "metadata": {
        "id": "Ea9Asmye2s57",
        "colab_type": "code",
        "colab": {
          "base_uri": "https://localhost:8080/",
          "height": 50
        },
        "outputId": "6dc2934b-97b8-4c27-b808-4566fd8d129e"
      },
      "source": [
        "import math\n",
        "r=float(input(\"enter the radius of circle\"))\n",
        "Area=math.pi*r*r\n",
        "print(\"Area of circle is:\",Area)"
      ],
      "execution_count": 17,
      "outputs": [
        {
          "output_type": "stream",
          "text": [
            "enter the radius of circle2\n",
            "Area of circle is: 12.566370614359172\n"
          ],
          "name": "stdout"
        }
      ]
    },
    {
      "cell_type": "code",
      "metadata": {
        "id": "1yArT6ip-oZx",
        "colab_type": "code",
        "colab": {}
      },
      "source": [
        "Question 2"
      ],
      "execution_count": null,
      "outputs": []
    },
    {
      "cell_type": "code",
      "metadata": {
        "id": "qtuRkRPy-q9W",
        "colab_type": "code",
        "colab": {
          "base_uri": "https://localhost:8080/",
          "height": 67
        },
        "outputId": "8792f09b-2444-4ebb-8688-2804ad3e9268"
      },
      "source": [
        "n=int(input(\"Number of sides:\"))\n",
        "s=float(input(\"Length of a side:\"))\n",
        "p_area=n*(s**2)/(4*math.tan(math.pi/n))\n",
        "print(\"The area of a regular polygon :\",p_area)"
      ],
      "execution_count": 18,
      "outputs": [
        {
          "output_type": "stream",
          "text": [
            "Number of sides:4\n",
            "Length of a side:12\n",
            "The area of a regular polygon : 144.00000000000003\n"
          ],
          "name": "stdout"
        }
      ]
    },
    {
      "cell_type": "code",
      "metadata": {
        "id": "1JDy2BmI_-27",
        "colab_type": "code",
        "colab": {}
      },
      "source": [
        "Question 3"
      ],
      "execution_count": null,
      "outputs": []
    },
    {
      "cell_type": "code",
      "metadata": {
        "id": "uwufVyWmABqL",
        "colab_type": "code",
        "colab": {}
      },
      "source": [
        "def area_of_segment(radius,angle):\n",
        " area_of_sector=math.pi*(radius *radius)*(angle/360)\n",
        " area_of_triangle = 0.5 *(radius * radius)*math.sin((angle*math*pi)/180)\n",
        " return area_of_sector-area_of_triangle\n",
        " radius = float(input(\"Radius of circle:\"))\n",
        " Angle = float(input(\"Angle enclosed by the segment:\"))\n",
        " print(\"Area of minor segment:\",area_of_segment(radius,angle))\n",
        " print(\"Area of major segment:\",area_of_segment(radius,360-angle)) "
      ],
      "execution_count": 27,
      "outputs": []
    },
    {
      "cell_type": "code",
      "metadata": {
        "id": "kRpqIXB9DwvS",
        "colab_type": "code",
        "colab": {}
      },
      "source": [
        "Question 4"
      ],
      "execution_count": null,
      "outputs": []
    },
    {
      "cell_type": "code",
      "metadata": {
        "id": "oVsRFQVhDzA1",
        "colab_type": "code",
        "colab": {
          "base_uri": "https://localhost:8080/",
          "height": 34
        },
        "outputId": "34c6ad52-2262-45aa-8b43-d9c000cc0260"
      },
      "source": [
        "import random\n",
        "x=[100,1,2,3,30,40,'hi','hello']\n",
        "random.shuffle(x)\n",
        "print(x)"
      ],
      "execution_count": 28,
      "outputs": [
        {
          "output_type": "stream",
          "text": [
            "['hello', 1, 2, 40, 'hi', 30, 3, 100]\n"
          ],
          "name": "stdout"
        }
      ]
    },
    {
      "cell_type": "code",
      "metadata": {
        "id": "otdpWup5EOpx",
        "colab_type": "code",
        "colab": {}
      },
      "source": [
        "Question 5"
      ],
      "execution_count": null,
      "outputs": []
    },
    {
      "cell_type": "code",
      "metadata": {
        "id": "GE-ZiRgzERXT",
        "colab_type": "code",
        "colab": {
          "base_uri": "https://localhost:8080/",
          "height": 54
        },
        "outputId": "0793a55e-5e6d-455e-b2d6-982fa188f3ef"
      },
      "source": [
        "x=list(range(1,10000,50))\n",
        "print(x)"
      ],
      "execution_count": 29,
      "outputs": [
        {
          "output_type": "stream",
          "text": [
            "[1, 51, 101, 151, 201, 251, 301, 351, 401, 451, 501, 551, 601, 651, 701, 751, 801, 851, 901, 951, 1001, 1051, 1101, 1151, 1201, 1251, 1301, 1351, 1401, 1451, 1501, 1551, 1601, 1651, 1701, 1751, 1801, 1851, 1901, 1951, 2001, 2051, 2101, 2151, 2201, 2251, 2301, 2351, 2401, 2451, 2501, 2551, 2601, 2651, 2701, 2751, 2801, 2851, 2901, 2951, 3001, 3051, 3101, 3151, 3201, 3251, 3301, 3351, 3401, 3451, 3501, 3551, 3601, 3651, 3701, 3751, 3801, 3851, 3901, 3951, 4001, 4051, 4101, 4151, 4201, 4251, 4301, 4351, 4401, 4451, 4501, 4551, 4601, 4651, 4701, 4751, 4801, 4851, 4901, 4951, 5001, 5051, 5101, 5151, 5201, 5251, 5301, 5351, 5401, 5451, 5501, 5551, 5601, 5651, 5701, 5751, 5801, 5851, 5901, 5951, 6001, 6051, 6101, 6151, 6201, 6251, 6301, 6351, 6401, 6451, 6501, 6551, 6601, 6651, 6701, 6751, 6801, 6851, 6901, 6951, 7001, 7051, 7101, 7151, 7201, 7251, 7301, 7351, 7401, 7451, 7501, 7551, 7601, 7651, 7701, 7751, 7801, 7851, 7901, 7951, 8001, 8051, 8101, 8151, 8201, 8251, 8301, 8351, 8401, 8451, 8501, 8551, 8601, 8651, 8701, 8751, 8801, 8851, 8901, 8951, 9001, 9051, 9101, 9151, 9201, 9251, 9301, 9351, 9401, 9451, 9501, 9551, 9601, 9651, 9701, 9751, 9801, 9851, 9901, 9951]\n"
          ],
          "name": "stdout"
        }
      ]
    }
  ]
}