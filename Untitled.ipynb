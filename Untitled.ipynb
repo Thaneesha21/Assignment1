{
  "nbformat": 4,
  "nbformat_minor": 0,
  "metadata": {
    "colab": {
      "name": "Untitled",
      "provenance": [],
      "authorship_tag": "ABX9TyN+9tZCf57JbNOA1rj3kKCO",
      "include_colab_link": true
    },
    "kernelspec": {
      "name": "python3",
      "display_name": "Python 3"
    }
  },
  "cells": [
    {
      "cell_type": "markdown",
      "metadata": {
        "id": "view-in-github",
        "colab_type": "text"
      },
      "source": [
        "<a href=\"https://colab.research.google.com/github/Thaneesha21/Assignment1/blob/master/Untitled.ipynb\" target=\"_parent\"><img src=\"https://colab.research.google.com/assets/colab-badge.svg\" alt=\"Open In Colab\"/></a>"
      ]
    },
    {
      "cell_type": "code",
      "metadata": {
        "id": "IFKnYnffa0Wp",
        "colab_type": "code",
        "colab": {
          "base_uri": "https://localhost:8080/",
          "height": 67
        },
        "outputId": "12d918d2-9a25-4fb9-dd2a-b777a38fc869"
      },
      "source": [
        "a=int(input('enter value of a:'))\n",
        "b=int(input('enter value of b:'))\n",
        "print('sum of a and b is:',a+b)"
      ],
      "execution_count": null,
      "outputs": [
        {
          "output_type": "stream",
          "text": [
            "enter value of a:20\n",
            "enter value of b:10\n",
            "sum of a and b is: 30\n"
          ],
          "name": "stdout"
        }
      ]
    },
    {
      "cell_type": "code",
      "metadata": {
        "id": "rpVH9ohKb7h5",
        "colab_type": "code",
        "colab": {
          "base_uri": "https://localhost:8080/",
          "height": 67
        },
        "outputId": "83c47672-9d01-4278-aac0-bbc87d1ba41b"
      },
      "source": [
        "a=int(input('enter value of a:'))\n",
        "b=int(input('enter value of b:'))\n",
        "print('difference of a and b:',a-b)"
      ],
      "execution_count": null,
      "outputs": [
        {
          "output_type": "stream",
          "text": [
            "enter value of a:20\n",
            "enter value of b:10\n",
            "difference of a and b: 10\n"
          ],
          "name": "stdout"
        }
      ]
    },
    {
      "cell_type": "code",
      "metadata": {
        "id": "NqWg5uUzcYJt",
        "colab_type": "code",
        "colab": {
          "base_uri": "https://localhost:8080/",
          "height": 67
        },
        "outputId": "3dc18eb9-2840-4102-fe97-2c14edbb34fe"
      },
      "source": [
        "a=int(input('enter value of a:'))\n",
        "b=int(input('enter value of b:'))\n",
        "print('product of a and b :',a*b)"
      ],
      "execution_count": null,
      "outputs": [
        {
          "output_type": "stream",
          "text": [
            "enter value of a:20\n",
            "enter value of b:10\n",
            "product of a and b : 200\n"
          ],
          "name": "stdout"
        }
      ]
    },
    {
      "cell_type": "code",
      "metadata": {
        "id": "mTDeUH_Ed6Qv",
        "colab_type": "code",
        "colab": {
          "base_uri": "https://localhost:8080/",
          "height": 67
        },
        "outputId": "938f2ff8-12c4-4ba4-db73-81a27b968fd4"
      },
      "source": [
        "a=int(input('enter value of a :'))\n",
        "b=int(input('enter value of b :'))\n",
        "print('coeficeint is:',a/b)\n"
      ],
      "execution_count": null,
      "outputs": [
        {
          "output_type": "stream",
          "text": [
            "enter value of a :20\n",
            "enter value of b :10\n",
            "coeficeint is: 2.0\n"
          ],
          "name": "stdout"
        }
      ]
    },
    {
      "cell_type": "code",
      "metadata": {
        "id": "liNW_TKEc0k8",
        "colab_type": "code",
        "colab": {
          "base_uri": "https://localhost:8080/",
          "height": 67
        },
        "outputId": "ce7ac054-8d62-4c6d-9689-3bb31d4e39a4"
      },
      "source": [
        "a=int(input('enter value of a:'))\n",
        "b=int(input('enter value of b:'))\n",
        "print('remainder of a and b is:',a%b)\n"
      ],
      "execution_count": null,
      "outputs": [
        {
          "output_type": "stream",
          "text": [
            "enter value of a:20\n",
            "enter value of b:10\n",
            "remainder of a and b is: 0\n"
          ],
          "name": "stdout"
        }
      ]
    },
    {
      "cell_type": "code",
      "metadata": {
        "id": "9TtfhDAVgd-T",
        "colab_type": "code",
        "colab": {
          "base_uri": "https://localhost:8080/",
          "height": 67
        },
        "outputId": "674ccc97-6a4d-43f6-d7f9-91e4c457a6a8"
      },
      "source": [
        "a=int(input('enter value of a:'))\n",
        "b=int(input('enter value of b:'))\n",
        "print('a power of b is:',a**b)"
      ],
      "execution_count": null,
      "outputs": [
        {
          "output_type": "stream",
          "text": [
            "enter value of a:4\n",
            "enter value of b:2\n",
            "a power of b is: 16\n"
          ],
          "name": "stdout"
        }
      ]
    },
    {
      "cell_type": "code",
      "metadata": {
        "id": "W5yrVdUQg8xX",
        "colab_type": "code",
        "colab": {
          "base_uri": "https://localhost:8080/",
          "height": 67
        },
        "outputId": "800c6383-0f11-4e3d-85e6-b2aec34c9b84"
      },
      "source": [
        "a=int(input('enter value of a:'))\n",
        "b=int(input('enter value of b:'))\n",
        "print('floor division is:',a//b)"
      ],
      "execution_count": null,
      "outputs": [
        {
          "output_type": "stream",
          "text": [
            "enter value of a:10\n",
            "enter value of b:3\n",
            "floor division is: 3\n"
          ],
          "name": "stdout"
        }
      ]
    },
    {
      "cell_type": "code",
      "metadata": {
        "id": "r8KnuUKXhW4G",
        "colab_type": "code",
        "colab": {}
      },
      "source": [
        "Question 2"
      ],
      "execution_count": null,
      "outputs": []
    },
    {
      "cell_type": "code",
      "metadata": {
        "id": "bBrBHx_6hZe7",
        "colab_type": "code",
        "colab": {
          "base_uri": "https://localhost:8080/",
          "height": 84
        },
        "outputId": "47e98678-bab3-45d1-a5be-71fd9bf9f94c"
      },
      "source": [
        "P=int(input('enter value of P:'))\n",
        "T=int(input('enter value of T:'))\n",
        "R=int(input ('enter value of R;'))\n",
        "print('simple interest is:',((P*T*R)/100))"
      ],
      "execution_count": null,
      "outputs": [
        {
          "output_type": "stream",
          "text": [
            "enter value of P:10\n",
            "enter value of T:20\n",
            "enter value of R;30\n",
            "simple interest is: 60.0\n"
          ],
          "name": "stdout"
        }
      ]
    },
    {
      "cell_type": "code",
      "metadata": {
        "id": "APBlfjURiQjX",
        "colab_type": "code",
        "colab": {}
      },
      "source": [
        "Question 3"
      ],
      "execution_count": null,
      "outputs": []
    },
    {
      "cell_type": "code",
      "metadata": {
        "id": "O4hmOuLNiVXH",
        "colab_type": "code",
        "colab": {
          "base_uri": "https://localhost:8080/",
          "height": 50
        },
        "outputId": "47d9351f-c694-472e-8b8c-a9c0fd12ebc3"
      },
      "source": [
        "r=int(input('enter value of radius:'))\n",
        "print('area of circle is:',(3.14*r*r))"
      ],
      "execution_count": null,
      "outputs": [
        {
          "output_type": "stream",
          "text": [
            "enter value of radius:10\n",
            "area of circle is: 314.0\n"
          ],
          "name": "stdout"
        }
      ]
    },
    {
      "cell_type": "code",
      "metadata": {
        "id": "vuXulhXUipyH",
        "colab_type": "code",
        "colab": {}
      },
      "source": [
        "Question 4"
      ],
      "execution_count": null,
      "outputs": []
    },
    {
      "cell_type": "code",
      "metadata": {
        "id": "JStsIUj3ipl2",
        "colab_type": "code",
        "colab": {
          "base_uri": "https://localhost:8080/",
          "height": 34
        },
        "outputId": "5e6926cb-e958-4ea8-a8e8-fa96381e1cd4"
      },
      "source": [
        "S1=2\n",
        "S2=3\n",
        "S3=2\n",
        "print('area of triangle:',(S1*S2*S3))"
      ],
      "execution_count": null,
      "outputs": [
        {
          "output_type": "stream",
          "text": [
            "area of triangle: 12\n"
          ],
          "name": "stdout"
        }
      ]
    },
    {
      "cell_type": "code",
      "metadata": {
        "id": "X7lw8ygwjDey",
        "colab_type": "code",
        "colab": {}
      },
      "source": [
        "Question 5"
      ],
      "execution_count": null,
      "outputs": []
    },
    {
      "cell_type": "code",
      "metadata": {
        "id": "9ut2pagRjGw6",
        "colab_type": "code",
        "colab": {
          "base_uri": "https://localhost:8080/",
          "height": 34
        },
        "outputId": "0d6c3361-5dc6-4485-df5a-35a0fb75ae72"
      },
      "source": [
        "c=37\n",
        "print('temperature in Fahrenheit is:',(1.25))"
      ],
      "execution_count": null,
      "outputs": [
        {
          "output_type": "stream",
          "text": [
            "temperature in Fahrenheit is: 1.25\n"
          ],
          "name": "stdout"
        }
      ]
    },
    {
      "cell_type": "code",
      "metadata": {
        "id": "VOhD917XjX90",
        "colab_type": "code",
        "colab": {}
      },
      "source": [
        "Question 6"
      ],
      "execution_count": null,
      "outputs": []
    },
    {
      "cell_type": "code",
      "metadata": {
        "id": "k5CY3qw-jeBG",
        "colab_type": "code",
        "colab": {
          "base_uri": "https://localhost:8080/",
          "height": 34
        },
        "outputId": "6dc087e9-e2e0-4d62-e411-1b13ff32900e"
      },
      "source": [
        "l=5\n",
        "b=5\n",
        "print('area of triangle:',(l*b))"
      ],
      "execution_count": null,
      "outputs": [
        {
          "output_type": "stream",
          "text": [
            "area of triangle: 25\n"
          ],
          "name": "stdout"
        }
      ]
    },
    {
      "cell_type": "code",
      "metadata": {
        "id": "ojy5bFTujwFs",
        "colab_type": "code",
        "colab": {}
      },
      "source": [
        "Question 7"
      ],
      "execution_count": null,
      "outputs": []
    },
    {
      "cell_type": "code",
      "metadata": {
        "id": "Tx_hO_tBjzph",
        "colab_type": "code",
        "colab": {
          "base_uri": "https://localhost:8080/",
          "height": 34
        },
        "outputId": "66deb996-1e97-4a79-a81a-4bafe96b658b"
      },
      "source": [
        "Side=2\n",
        "print('perimeter of square:',(4*Side))"
      ],
      "execution_count": null,
      "outputs": [
        {
          "output_type": "stream",
          "text": [
            "perimeter of square: 8\n"
          ],
          "name": "stdout"
        }
      ]
    },
    {
      "cell_type": "code",
      "metadata": {
        "id": "IzN-SXtukLHW",
        "colab_type": "code",
        "colab": {}
      },
      "source": [
        "Question 8"
      ],
      "execution_count": null,
      "outputs": []
    },
    {
      "cell_type": "code",
      "metadata": {
        "id": "w5Ii5Mw4kOSm",
        "colab_type": "code",
        "colab": {
          "base_uri": "https://localhost:8080/",
          "height": 50
        },
        "outputId": "69197589-feb2-48df-d634-285f07ec3bcb"
      },
      "source": [
        "r=int(input('value of radius:'))\n",
        "print('circumference of the circle is:',(2*3.14*r))"
      ],
      "execution_count": null,
      "outputs": [
        {
          "output_type": "stream",
          "text": [
            "value of radius:2\n",
            "circumference of the circle is: 12.56\n"
          ],
          "name": "stdout"
        }
      ]
    },
    {
      "cell_type": "code",
      "metadata": {
        "id": "CO7ABR50kj-n",
        "colab_type": "code",
        "colab": {}
      },
      "source": [
        "Question 9"
      ],
      "execution_count": null,
      "outputs": []
    },
    {
      "cell_type": "code",
      "metadata": {
        "id": "WeesZAVwkmIU",
        "colab_type": "code",
        "colab": {
          "base_uri": "https://localhost:8080/",
          "height": 50
        },
        "outputId": "999c6b47-0761-469d-be9a-2bdf5debe08d"
      },
      "source": [
        "a=5\n",
        "b=10\n",
        "a=a+b\n",
        "b=a-b\n",
        "a=a-b\n",
        "print('value of a after swapping is:',a)\n",
        "print('value of b after swapping is:',b)"
      ],
      "execution_count": null,
      "outputs": [
        {
          "output_type": "stream",
          "text": [
            "value of a after swapping is: 10\n",
            "value of b after swapping is: 5\n"
          ],
          "name": "stdout"
        }
      ]
    }
  ]
}