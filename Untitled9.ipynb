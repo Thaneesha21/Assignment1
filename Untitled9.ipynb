{
  "nbformat": 4,
  "nbformat_minor": 0,
  "metadata": {
    "colab": {
      "name": "Untitled9.ipynb",
      "provenance": [],
      "authorship_tag": "ABX9TyP+NQGVlXFnGJSqltmPZy39",
      "include_colab_link": true
    },
    "kernelspec": {
      "name": "python3",
      "display_name": "Python 3"
    }
  },
  "cells": [
    {
      "cell_type": "markdown",
      "metadata": {
        "id": "view-in-github",
        "colab_type": "text"
      },
      "source": [
        "<a href=\"https://colab.research.google.com/github/Thaneesha21/Assignment1/blob/master/Untitled9.ipynb\" target=\"_parent\"><img src=\"https://colab.research.google.com/assets/colab-badge.svg\" alt=\"Open In Colab\"/></a>"
      ]
    },
    {
      "cell_type": "code",
      "metadata": {
        "id": "TPQ_wu2Ekk7f",
        "colab_type": "code",
        "colab": {}
      },
      "source": [
        "Assignment 5"
      ],
      "execution_count": null,
      "outputs": []
    },
    {
      "cell_type": "code",
      "metadata": {
        "id": "1XxCFxg0pCEU",
        "colab_type": "code",
        "colab": {}
      },
      "source": [
        "Question 1"
      ],
      "execution_count": null,
      "outputs": []
    },
    {
      "cell_type": "code",
      "metadata": {
        "id": "ndw8-ywlnxhS",
        "colab_type": "code",
        "colab": {
          "base_uri": "https://localhost:8080/",
          "height": 67
        },
        "outputId": "7c0f0839-9ce6-47cb-c497-9111cff265c3"
      },
      "source": [
        "def binaryToDecimal (n):\n",
        "  return int (n,2)\n",
        "if __name__ == '__main__':\n",
        "  print(binaryToDecimal( ' 100' ))\n",
        "  print(binaryToDecimal( ' 101' ))\n",
        "  print(binaryToDecimal( ' 1001' ))  "
      ],
      "execution_count": 8,
      "outputs": [
        {
          "output_type": "stream",
          "text": [
            "4\n",
            "5\n",
            "9\n"
          ],
          "name": "stdout"
        }
      ]
    },
    {
      "cell_type": "code",
      "metadata": {
        "id": "h4pVrV7XpF_F",
        "colab_type": "code",
        "colab": {}
      },
      "source": [
        "Question 2"
      ],
      "execution_count": null,
      "outputs": []
    },
    {
      "cell_type": "code",
      "metadata": {
        "id": "ecilfLEhpM8Q",
        "colab_type": "code",
        "colab": {
          "base_uri": "https://localhost:8080/",
          "height": 202
        },
        "outputId": "80ebee4f-43b2-426e-b3c4-00e5053998c0"
      },
      "source": [
        "def Fibonacci(n):\n",
        "  f1=0\n",
        "  f2=1\n",
        "  if (n<1):\n",
        "    return\n",
        "  for x in range(0,n):\n",
        "    print(f2)\n",
        "    next=f1+f2\n",
        "    f1=f2\n",
        "    f2=next\n",
        "Fibonacci(n=int(input(\"enter the numver of fibonacci numbers to be print\")))    "
      ],
      "execution_count": 9,
      "outputs": [
        {
          "output_type": "stream",
          "text": [
            "enter the numver of fibonacci numbers to be print10\n",
            "1\n",
            "1\n",
            "2\n",
            "3\n",
            "5\n",
            "8\n",
            "13\n",
            "21\n",
            "34\n",
            "55\n"
          ],
          "name": "stdout"
        }
      ]
    },
    {
      "cell_type": "code",
      "metadata": {
        "id": "LhvbB0g-qlwK",
        "colab_type": "code",
        "colab": {}
      },
      "source": [
        "Question 3"
      ],
      "execution_count": null,
      "outputs": []
    },
    {
      "cell_type": "code",
      "metadata": {
        "id": "ZxXRh4PbquSw",
        "colab_type": "code",
        "colab": {
          "base_uri": "https://localhost:8080/",
          "height": 202
        },
        "outputId": "5fda3973-39a8-41e8-c554-e079d8310390"
      },
      "source": [
        "n=int(input(\"Multiplication table of\"))\n",
        "for i in range(1, 11):\n",
        "  print(n,'x',i, '=',n*i)"
      ],
      "execution_count": 12,
      "outputs": [
        {
          "output_type": "stream",
          "text": [
            "Multiplication table of9\n",
            "9 x 1 = 9\n",
            "9 x 2 = 18\n",
            "9 x 3 = 27\n",
            "9 x 4 = 36\n",
            "9 x 5 = 45\n",
            "9 x 6 = 54\n",
            "9 x 7 = 63\n",
            "9 x 8 = 72\n",
            "9 x 9 = 81\n",
            "9 x 10 = 90\n"
          ],
          "name": "stdout"
        }
      ]
    },
    {
      "cell_type": "code",
      "metadata": {
        "id": "etFNey-zrX5o",
        "colab_type": "code",
        "colab": {}
      },
      "source": [
        "Question 4"
      ],
      "execution_count": null,
      "outputs": []
    },
    {
      "cell_type": "code",
      "metadata": {
        "id": "WHXYh_L_rlrx",
        "colab_type": "code",
        "colab": {
          "base_uri": "https://localhost:8080/",
          "height": 67
        },
        "outputId": "775779a5-77e0-469f-9668-720a2c29d82a"
      },
      "source": [
        "def hcf(x, y):\n",
        "  if x>y:\n",
        "    smaller=y\n",
        "  else:\n",
        "    smaller=x\n",
        "  for i in range(1, smaller+1):\n",
        "    if((x%i==0)and(y%i==0)):\n",
        "      hcf=i\n",
        "  return hcf\n",
        "n1=int(input(\"Enter the first number\"))\n",
        "n2=int(input(\"Enter the second number\"))\n",
        "print(\"The H.C.F. is\",hcf(n1,n2))          "
      ],
      "execution_count": 13,
      "outputs": [
        {
          "output_type": "stream",
          "text": [
            "Enter the first number98\n",
            "Enter the second number22\n",
            "The H.C.F. is 2\n"
          ],
          "name": "stdout"
        }
      ]
    }
  ]
}