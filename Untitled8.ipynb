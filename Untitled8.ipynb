{
  "nbformat": 4,
  "nbformat_minor": 0,
  "metadata": {
    "colab": {
      "name": "Untitled8.ipynb",
      "provenance": [],
      "authorship_tag": "ABX9TyP31P1F/K6oK/ezx60Ha/rE",
      "include_colab_link": true
    },
    "kernelspec": {
      "name": "python3",
      "display_name": "Python 3"
    }
  },
  "cells": [
    {
      "cell_type": "markdown",
      "metadata": {
        "id": "view-in-github",
        "colab_type": "text"
      },
      "source": [
        "<a href=\"https://colab.research.google.com/github/Thaneesha21/Assignment1/blob/master/Untitled8.ipynb\" target=\"_parent\"><img src=\"https://colab.research.google.com/assets/colab-badge.svg\" alt=\"Open In Colab\"/></a>"
      ]
    },
    {
      "cell_type": "code",
      "metadata": {
        "id": "VAHyw_AmAy1C",
        "colab_type": "code",
        "colab": {}
      },
      "source": [
        "Assignment 4"
      ],
      "execution_count": null,
      "outputs": []
    },
    {
      "cell_type": "code",
      "metadata": {
        "id": "vlhq3HAIBIvA",
        "colab_type": "code",
        "colab": {}
      },
      "source": [
        "Question 1"
      ],
      "execution_count": null,
      "outputs": []
    },
    {
      "cell_type": "code",
      "metadata": {
        "id": "JkgBke2JBNV3",
        "colab_type": "code",
        "colab": {
          "base_uri": "https://localhost:8080/",
          "height": 34
        },
        "outputId": "6b9ebd24-98ee-44d2-d84b-941b006b3740"
      },
      "source": [
        "def maximum(a, b, c):\n",
        "  if (a >= b) and (a >= c):\n",
        "    largest = a\n",
        "  elif ( b >= a) and (b >= c):\n",
        "    largest = b\n",
        "  else:\n",
        "    largest = c\n",
        "  return largest \n",
        "a = 10\n",
        "b = 14\n",
        "c = 12  \n",
        "print(maximum(a, b, c))       "
      ],
      "execution_count": 3,
      "outputs": [
        {
          "output_type": "stream",
          "text": [
            "14\n"
          ],
          "name": "stdout"
        }
      ]
    },
    {
      "cell_type": "code",
      "metadata": {
        "id": "nMCHsm88DYh3",
        "colab_type": "code",
        "colab": {}
      },
      "source": [
        "Question 2"
      ],
      "execution_count": null,
      "outputs": []
    },
    {
      "cell_type": "code",
      "metadata": {
        "id": "2l6HZHOIC8By",
        "colab_type": "code",
        "colab": {
          "base_uri": "https://localhost:8080/",
          "height": 34
        },
        "outputId": "656504ad-8d80-49fb-e7bd-1764d818df34"
      },
      "source": [
        "txt = \"Hello World\"[::-1]\n",
        "print(txt)"
      ],
      "execution_count": 4,
      "outputs": [
        {
          "output_type": "stream",
          "text": [
            "dlroW olleH\n"
          ],
          "name": "stdout"
        }
      ]
    },
    {
      "cell_type": "code",
      "metadata": {
        "id": "88q4_PPFFVWW",
        "colab_type": "code",
        "colab": {}
      },
      "source": [
        "Question 3"
      ],
      "execution_count": null,
      "outputs": []
    },
    {
      "cell_type": "code",
      "metadata": {
        "id": "nwaspPBcDSYO",
        "colab_type": "code",
        "colab": {
          "base_uri": "https://localhost:8080/",
          "height": 34
        },
        "outputId": "753e8b4c-940f-48f6-93fa-f85a013b2959"
      },
      "source": [
        "num=11\n",
        "if num > 1:\n",
        "  for i in range(2, num):\n",
        "    if (num % i) == 0:\n",
        "      print(num, \"is not a prime number\")\n",
        "      break\n",
        "  else:\n",
        "      print(num, \"is a prime number\")\n",
        "else:\n",
        "   print(num, \"is not a prime number\")       "
      ],
      "execution_count": 6,
      "outputs": [
        {
          "output_type": "stream",
          "text": [
            "11 is a prime number\n"
          ],
          "name": "stdout"
        }
      ]
    },
    {
      "cell_type": "code",
      "metadata": {
        "id": "kL0eRYpnFT1u",
        "colab_type": "code",
        "colab": {}
      },
      "source": [
        "Question 4"
      ],
      "execution_count": null,
      "outputs": []
    },
    {
      "cell_type": "code",
      "metadata": {
        "id": "vo0T7EQwF5Kq",
        "colab_type": "code",
        "colab": {
          "base_uri": "https://localhost:8080/",
          "height": 67
        },
        "outputId": "4b34a273-6b05-47b4-d724-b3142847f64e"
      },
      "source": [
        "try:\n",
        "  n=int(input(\"Enter number:\"))\n",
        "  temp=n\n",
        "  rev=0\n",
        "  while(n>0):\n",
        "    dig=n%10\n",
        "    rev=rev*10+dig\n",
        "    n=n//10\n",
        "    if(temp==rev):\n",
        "      print(\"the number is a palindrome!\")\n",
        "    else:\n",
        "      print(\"the number is not a palindrome\")  \n",
        "except:\n",
        "  print(\"can't find a file\")\n",
        "finally:\n",
        "  print(\"Finally block is executed\")  \n"
      ],
      "execution_count": 8,
      "outputs": [
        {
          "output_type": "stream",
          "text": [
            "Enter number:mam\n",
            "can't find a file\n",
            "Finally block is executed\n"
          ],
          "name": "stdout"
        }
      ]
    },
    {
      "cell_type": "code",
      "metadata": {
        "id": "0oyie6RiJ7fA",
        "colab_type": "code",
        "colab": {}
      },
      "source": [
        "Question 5"
      ],
      "execution_count": null,
      "outputs": []
    },
    {
      "cell_type": "code",
      "metadata": {
        "id": "XXaF_pFPKHX0",
        "colab_type": "code",
        "colab": {
          "base_uri": "https://localhost:8080/",
          "height": 34
        },
        "outputId": "109589ea-f3ed-4b0f-fc28-a28140427235"
      },
      "source": [
        "def squaresum(n) :\n",
        "  return (n * (n + 1) / 2) * (2 * n + 1) /3\n",
        "n=4\n",
        "print(squaresum(n)) ;  "
      ],
      "execution_count": 9,
      "outputs": [
        {
          "output_type": "stream",
          "text": [
            "30.0\n"
          ],
          "name": "stdout"
        }
      ]
    }
  ]
}